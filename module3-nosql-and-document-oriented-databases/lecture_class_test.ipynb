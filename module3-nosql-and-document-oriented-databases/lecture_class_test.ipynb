{
 "metadata": {
  "language_info": {
   "codemirror_mode": {
    "name": "ipython",
    "version": 3
   },
   "file_extension": ".py",
   "mimetype": "text/x-python",
   "name": "python",
   "nbconvert_exporter": "python",
   "pygments_lexer": "ipython3",
   "version": 3
  },
  "orig_nbformat": 2,
  "kernelspec": {
   "name": "python_defaultSpec_1597260423066",
   "display_name": "Python 3.8.5 64-bit"
  }
 },
 "nbformat": 4,
 "nbformat_minor": 2,
 "cells": [
  {
   "cell_type": "code",
   "execution_count": null,
   "metadata": {
    "tags": []
   },
   "outputs": [],
   "source": [
    "pip install pymongo"
   ]
  },
  {
   "cell_type": "code",
   "execution_count": null,
   "metadata": {
    "tags": []
   },
   "outputs": [],
   "source": [
    "pip install dnspython"
   ]
  },
  {
   "cell_type": "code",
   "execution_count": 7,
   "metadata": {},
   "outputs": [],
   "source": [
    "import pymongo\n",
    "import sqlite3"
   ]
  },
  {
   "cell_type": "code",
   "execution_count": 2,
   "metadata": {},
   "outputs": [],
   "source": [
    "password='e'\n",
    "dbname = 'test'\n",
    "\n",
    "connection = (\"mongodb+srv://e:\"+ password +\"@cluster0.1di8a.mongodb.net/\"+ dbname +\"?retryWrites=true&w=majority\")\n",
    "client = pymongo.MongoClient(connection)\n",
    "db = client.test"
   ]
  },
  {
   "cell_type": "code",
   "execution_count": 3,
   "metadata": {},
   "outputs": [
    {
     "output_type": "execute_result",
     "data": {
      "text/plain": "Database(MongoClient(host=['cluster0-shard-00-02.1di8a.mongodb.net:27017', 'cluster0-shard-00-00.1di8a.mongodb.net:27017', 'cluster0-shard-00-01.1di8a.mongodb.net:27017'], document_class=dict, tz_aware=False, connect=True, retrywrites=True, w='majority', authsource='admin', replicaset='atlas-j4aybh-shard-0', ssl=True), 'test')"
     },
     "metadata": {},
     "execution_count": 3
    }
   ],
   "source": [
    "db"
   ]
  },
  {
   "cell_type": "code",
   "execution_count": 4,
   "metadata": {},
   "outputs": [
    {
     "output_type": "execute_result",
     "data": {
      "text/plain": "Collection(Database(MongoClient(host=['cluster0-shard-00-02.1di8a.mongodb.net:27017', 'cluster0-shard-00-00.1di8a.mongodb.net:27017', 'cluster0-shard-00-01.1di8a.mongodb.net:27017'], document_class=dict, tz_aware=False, connect=True, retrywrites=True, w='majority', authsource='admin', replicaset='atlas-j4aybh-shard-0', ssl=True), 'test'), 'test')"
     },
     "metadata": {},
     "execution_count": 4
    }
   ],
   "source": [
    "db.test"
   ]
  },
  {
   "cell_type": "code",
   "execution_count": 16,
   "metadata": {},
   "outputs": [],
   "source": [
    "sl_conn = sqlite3.connect('rpg_db.sqlite3')\n",
    "sl_curs = sl_conn.cursor()"
   ]
  },
  {
   "cell_type": "code",
   "execution_count": 17,
   "metadata": {},
   "outputs": [],
   "source": [
    "get_characters = 'SELECT * FROM charactercreator_character;'\n",
    "characters = sl_curs.execute(get_characters).fetchall()"
   ]
  },
  {
   "cell_type": "code",
   "execution_count": 18,
   "metadata": {},
   "outputs": [
    {
     "output_type": "execute_result",
     "data": {
      "text/plain": "[(1, 'Aliquid iste optio reiciendi', 0, 0, 10, 1, 1, 1, 1),\n (2, 'Optio dolorem ex a', 0, 0, 10, 1, 1, 1, 1),\n (3, 'Minus c', 0, 0, 10, 1, 1, 1, 1),\n (4, 'Sit ut repr', 0, 0, 10, 1, 1, 1, 1),\n (5, 'At id recusandae expl', 0, 0, 10, 1, 1, 1, 1),\n (6, 'Non nobis et of', 0, 0, 10, 1, 1, 1, 1),\n (7, 'Perferendis', 0, 0, 10, 1, 1, 1, 1),\n (8, 'Accusantium amet quidem eve', 0, 0, 10, 1, 1, 1, 1),\n (9, 'Sed nostrum inventore error m', 0, 0, 10, 1, 1, 1, 1),\n (10, 'Harum repellendus omnis od', 0, 0, 10, 1, 1, 1, 1)]"
     },
     "metadata": {},
     "execution_count": 18
    }
   ],
   "source": [
    "characters[:10]"
   ]
  },
  {
   "cell_type": "code",
   "execution_count": 19,
   "metadata": {},
   "outputs": [
    {
     "output_type": "execute_result",
     "data": {
      "text/plain": "<pymongo.results.InsertOneResult at 0x2072bf43140>"
     },
     "metadata": {},
     "execution_count": 19
    }
   ],
   "source": [
    "rpg_doc = {\n",
    "    'doc_type': 'rpg_character',\n",
    "    'sql_key': characters[0],\n",
    "    'name': characters[1],\n",
    "    'level': characters[2],\n",
    "    'exp': characters[3],\n",
    "    'hp': characters[4],\n",
    "    'strength': characters[5],\n",
    "    'intelligence': characters[6],\n",
    "    'dexterity': characters[7],\n",
    "    'wisdom': characters[8]\n",
    "}\n",
    "db.test.insert_one(rpg_doc)"
   ]
  },
  {
   "cell_type": "code",
   "execution_count": 20,
   "metadata": {},
   "outputs": [
    {
     "output_type": "execute_result",
     "data": {
      "text/plain": "[{'_id': ObjectId('5f345086e735e8269d2d504a'),\n  'doc_type': 'rpg_character',\n  'sql_key': [1, 'Aliquid iste optio reiciendi', 0, 0, 10, 1, 1, 1, 1],\n  'name': [2, 'Optio dolorem ex a', 0, 0, 10, 1, 1, 1, 1],\n  'level': [3, 'Minus c', 0, 0, 10, 1, 1, 1, 1],\n  'exp': [4, 'Sit ut repr', 0, 0, 10, 1, 1, 1, 1],\n  'hp': [5, 'At id recusandae expl', 0, 0, 10, 1, 1, 1, 1],\n  'strength': [6, 'Non nobis et of', 0, 0, 10, 1, 1, 1, 1],\n  'intelligence': [7, 'Perferendis', 0, 0, 10, 1, 1, 1, 1],\n  'dexterity': [8, 'Accusantium amet quidem eve', 0, 0, 10, 1, 1, 1, 1],\n  'wisdom': [9, 'Sed nostrum inventore error m', 0, 0, 10, 1, 1, 1, 1]}]"
     },
     "metadata": {},
     "execution_count": 20
    }
   ],
   "source": [
    "list(db.test.find({'doc_type': 'rpg_character'}))"
   ]
  },
  {
   "cell_type": "code",
   "execution_count": null,
   "metadata": {},
   "outputs": [],
   "source": []
  }
 ]
}
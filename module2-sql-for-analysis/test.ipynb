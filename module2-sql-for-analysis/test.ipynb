{
 "metadata": {
  "language_info": {
   "codemirror_mode": {
    "name": "ipython",
    "version": 3
   },
   "file_extension": ".py",
   "mimetype": "text/x-python",
   "name": "python",
   "nbconvert_exporter": "python",
   "pygments_lexer": "ipython3",
   "version": 3
  },
  "orig_nbformat": 2,
  "kernelspec": {
   "name": "python_defaultSpec_1597165291606",
   "display_name": "Python 3.8.5 64-bit"
  }
 },
 "nbformat": 4,
 "nbformat_minor": 2,
 "cells": [
  {
   "cell_type": "code",
   "execution_count": 2,
   "metadata": {
    "tags": []
   },
   "outputs": [
    {
     "output_type": "stream",
     "name": "stdout",
     "text": "Collecting psycopg2-binary\n  Downloading psycopg2_binary-2.8.5-cp38-cp38-win_amd64.whl (1.1 MB)\nInstalling collected packages: psycopg2-binary\nSuccessfully installed psycopg2-binary-2.8.5\nNote: you may need to restart the kernel to use updated packages.\nWARNING: You are using pip version 20.1.1; however, version 20.2.1 is available.\nYou should consider upgrading via the 'C:\\Users\\ivan4\\AppData\\Local\\Microsoft\\WindowsApps\\PythonSoftwareFoundation.Python.3.8_qbz5n2kfra8p0\\python.exe -m pip install --upgrade pip' command.\n"
    }
   ],
   "source": [
    "pip install psycopg2-binary"
   ]
  },
  {
   "cell_type": "code",
   "execution_count": 3,
   "metadata": {},
   "outputs": [],
   "source": [
    "import psycopg2"
   ]
  },
  {
   "cell_type": "code",
   "execution_count": 5,
   "metadata": {},
   "outputs": [],
   "source": [
    "dbname = 'ormaiyde'\n",
    "user = 'ormaiyde'  # ElephantSQL happens to use same name for db and user\n",
    "password = 'Adi4iW7xwsadEUzK-fIzJnOoxZZbui2N'  # Sensitive! Don't share/commit\n",
    "host = 'isilo.db.elephantsql.com'"
   ]
  },
  {
   "cell_type": "code",
   "execution_count": 6,
   "metadata": {},
   "outputs": [],
   "source": [
    "pg_conn = psycopg2.connect(dbname=dbname, user=user,\n",
    "                           password=password, host=host)"
   ]
  },
  {
   "cell_type": "code",
   "execution_count": 7,
   "metadata": {},
   "outputs": [
    {
     "output_type": "execute_result",
     "data": {
      "text/plain": "<connection object at 0x0000026A7C79A6A0; dsn: 'user=ormaiyde password=xxx dbname=ormaiyde host=isilo.db.elephantsql.com', closed: 0>"
     },
     "metadata": {},
     "execution_count": 7
    }
   ],
   "source": [
    "pg_conn"
   ]
  },
  {
   "cell_type": "code",
   "execution_count": 8,
   "metadata": {},
   "outputs": [],
   "source": [
    "pg_curs = pg_conn.cursor()"
   ]
  },
  {
   "cell_type": "code",
   "execution_count": 9,
   "metadata": {},
   "outputs": [
    {
     "output_type": "execute_result",
     "data": {
      "text/plain": "[(1, 'A row name', None),\n (2, 'Another row, with JSON', {'a': 1, 'b': ['dog', 'cat', 42], 'c': True})]"
     },
     "metadata": {},
     "execution_count": 9
    }
   ],
   "source": [
    "pg_curs.execute('SELECT * FROM test_table;')\n",
    "pg_curs.fetchall()"
   ]
  },
  {
   "cell_type": "code",
   "execution_count": 10,
   "metadata": {},
   "outputs": [],
   "source": [
    "insert_statement = \"\"\"\n",
    "INSERT INTO test_table (name, data) VALUES\n",
    "(\n",
    "  'Zaphod Beeblebrox',\n",
    "  '{\"key\": \"value\", \"key2\": true}'::JSONB\n",
    ")\n",
    "\"\"\""
   ]
  },
  {
   "cell_type": "code",
   "execution_count": 11,
   "metadata": {},
   "outputs": [],
   "source": [
    "pg_curs.execute(insert_statement)\n",
    "pg_conn.commit()"
   ]
  },
  {
   "cell_type": "code",
   "execution_count": 12,
   "metadata": {},
   "outputs": [
    {
     "output_type": "execute_result",
     "data": {
      "text/plain": "[(1, 'A row name', None),\n (2, 'Another row, with JSON', {'a': 1, 'b': ['dog', 'cat', 42], 'c': True}),\n (3, 'Zaphod Beeblebrox', {'key': 'value', 'key2': True})]"
     },
     "metadata": {},
     "execution_count": 12
    }
   ],
   "source": [
    "pg_curs.execute('SELECT * FROM test_table;')\n",
    "pg_curs.fetchall()"
   ]
  },
  {
   "cell_type": "code",
   "execution_count": 13,
   "metadata": {},
   "outputs": [],
   "source": [
    "pg_curs.close()"
   ]
  },
  {
   "cell_type": "code",
   "execution_count": 14,
   "metadata": {},
   "outputs": [],
   "source": [
    "pg_curs = pg_conn.cursor()"
   ]
  },
  {
   "cell_type": "code",
   "execution_count": null,
   "metadata": {},
   "outputs": [],
   "source": []
  }
 ]
}